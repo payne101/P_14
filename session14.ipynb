{
 "cells": [
  {
   "cell_type": "markdown",
   "id": "0fbc1e34",
   "metadata": {},
   "source": [
    "# Imports"
   ]
  },
  {
   "cell_type": "code",
   "execution_count": 1,
   "id": "d9cec635",
   "metadata": {},
   "outputs": [],
   "source": [
    "from collections import namedtuple, Counter\n",
    "from itertools import islice\n",
    "from dateutil.parser import parse\n",
    "import datetime"
   ]
  },
  {
   "cell_type": "markdown",
   "id": "a7e8a97a",
   "metadata": {},
   "source": [
    "# Helper Function to Parse Dates"
   ]
  },
  {
   "cell_type": "code",
   "execution_count": 2,
   "id": "9352811a",
   "metadata": {},
   "outputs": [],
   "source": [
    "def date(value):\n",
    "    '''\n",
    "    This function is used to format the column with date in it.\n",
    "    It will take a string in the form 10/5/2016 and return datetime.date(2016, 10, 5)\n",
    "    '''\n",
    "    return parse(value).date()   "
   ]
  },
  {
   "cell_type": "markdown",
   "id": "7797a9a0",
   "metadata": {},
   "source": [
    "# Goal 1"
   ]
  },
  {
   "cell_type": "markdown",
   "id": "4031e0ef",
   "metadata": {},
   "source": [
    "### Read Person's Info"
   ]
  },
  {
   "cell_type": "code",
   "execution_count": 3,
   "id": "836c5786",
   "metadata": {},
   "outputs": [],
   "source": [
    "def gen_info(file):\n",
    "    '''\n",
    "    this generator reads values from the 'personal_info.csv' file\n",
    "    '''\n",
    "    with open(file, encoding='utf8', errors='ignore') as f:\n",
    "        # the first line is the header; this is used to\n",
    "        # create the names for elements in the namedtuple\n",
    "        header = next(f).strip().split(',')\n",
    "        header = [x.replace(\" \", \"\") for x in header]\n",
    "        # data type for each column in the file\n",
    "        data_type = [str, str, str, str, str]\n",
    "        Info = namedtuple('Info', header )\n",
    "        for line in f:\n",
    "            line = line.strip().split(',')\n",
    "            data = (type(field) for type, field in zip(data_type, line))\n",
    "            yield Info(*data)"
   ]
  },
  {
   "cell_type": "code",
   "execution_count": 4,
   "id": "f84d4db1",
   "metadata": {},
   "outputs": [
    {
     "name": "stdout",
     "output_type": "stream",
     "text": [
      "Info(ssn='100-53-9824', first_name='Sebastiano', last_name='Tester', gender='Male', language='Icelandic')\n",
      "\n",
      "Info(ssn='101-71-4702', first_name='Cayla', last_name='MacDonagh', gender='Female', language='Lao')\n",
      "\n"
     ]
    }
   ],
   "source": [
    "info = gen_info('personal_info.csv')\n",
    "\n",
    "for i in islice(info, 0,2):\n",
    "    print(f'{i}\\n')"
   ]
  },
  {
   "cell_type": "markdown",
   "id": "5e29864f",
   "metadata": {},
   "source": [
    "### Read Employer's Info"
   ]
  },
  {
   "cell_type": "code",
   "execution_count": 5,
   "id": "a42f4747",
   "metadata": {},
   "outputs": [],
   "source": [
    "def gen_employ(file):\n",
    "    '''\n",
    "    this generator reads values from the 'employment.csv' file\n",
    "    '''\n",
    "    with open(file, encoding='utf8', errors='ignore') as f:\n",
    "        # the first line is the header; this is used to\n",
    "        # create the names for elements in the namedtuple\n",
    "        header = next(f).strip().split(',')\n",
    "        header = [x.replace(\" \", \"\") for x in header]\n",
    "        # data type for each column in the file\n",
    "        data_type = [str, str, str, str]\n",
    "        Employ = namedtuple('Employ', header )\n",
    "        for line in f:\n",
    "            line = line.strip().split(',')\n",
    "            data = (type(field) for type, field in zip(data_type, line))\n",
    "            yield Employ(*data)"
   ]
  },
  {
   "cell_type": "code",
   "execution_count": 6,
   "id": "0a60e11d",
   "metadata": {},
   "outputs": [
    {
     "name": "stdout",
     "output_type": "stream",
     "text": [
      "Employ(employer='Stiedemann-Bailey', department='Research and Development', employee_id='29-0890771', ssn='100-53-9824')\n",
      "\n",
      "Employ(employer='Nicolas and Sons', department='Sales', employee_id='41-6841359', ssn='101-71-4702')\n",
      "\n"
     ]
    }
   ],
   "source": [
    "employ = gen_employ('employment.csv')\n",
    "\n",
    "for i in islice(employ, 0,2):\n",
    "    print(f'{i}\\n')"
   ]
  },
  {
   "cell_type": "markdown",
   "id": "fe875c26",
   "metadata": {},
   "source": [
    "### Read Record Update Status"
   ]
  },
  {
   "cell_type": "code",
   "execution_count": 7,
   "id": "e2430de3",
   "metadata": {},
   "outputs": [],
   "source": [
    "def gen_update(file):\n",
    "    '''\n",
    "    this generator reads values from the 'update_status.csv' file\n",
    "    '''\n",
    "    with open(file, encoding='utf8', errors='ignore') as f:\n",
    "        # the first line is the header; this is used to\n",
    "        # create the names for elements in the namedtuple\n",
    "        header = next(f).strip().split(',')\n",
    "        header = [x.replace(\" \", \"\") for x in header]\n",
    "        # data type for each column in the file\n",
    "        data_type = [str, date, date]\n",
    "        Update = namedtuple('Update', header )\n",
    "        for line in f:\n",
    "            line = line.strip().split(',')\n",
    "            data = (type(field) for type, field in zip(data_type, line))\n",
    "            yield Update(*data)"
   ]
  },
  {
   "cell_type": "code",
   "execution_count": 8,
   "id": "1fa55699",
   "metadata": {},
   "outputs": [
    {
     "name": "stdout",
     "output_type": "stream",
     "text": [
      "Update(ssn='100-53-9824', last_updated=datetime.date(2017, 10, 7), created=datetime.date(2016, 1, 24))\n",
      "\n",
      "Update(ssn='101-71-4702', last_updated=datetime.date(2017, 1, 23), created=datetime.date(2016, 1, 27))\n",
      "\n"
     ]
    }
   ],
   "source": [
    "update = gen_update('update_status.csv')\n",
    "\n",
    "for i in islice(update, 0,2):\n",
    "    print(f'{i}\\n')"
   ]
  },
  {
   "cell_type": "markdown",
   "id": "8645390c",
   "metadata": {},
   "source": [
    "### Read Vehicle Info"
   ]
  },
  {
   "cell_type": "code",
   "execution_count": 9,
   "id": "52bfc314",
   "metadata": {},
   "outputs": [],
   "source": [
    "def gen_vehicle(file):\n",
    "    '''\n",
    "    this generator reads values from the 'vehicles.csv' file\n",
    "    '''\n",
    "    with open(file, encoding='utf8', errors='ignore') as f:\n",
    "        # the first line is the header; this is used to\n",
    "        # create the names for elements in the namedtuple\n",
    "        header = next(f).strip().split(',')\n",
    "        header = [x.replace(\" \", \"\") for x in header]\n",
    "        # data type for each column in the file\n",
    "        data_type = [str, str, str, int]\n",
    "        Vehicle = namedtuple('Vehicle', header )\n",
    "        for line in f:\n",
    "            line = line.strip().split(',')\n",
    "            data = (type(field) for type, field in zip(data_type, line))\n",
    "            yield Vehicle(*data)"
   ]
  },
  {
   "cell_type": "code",
   "execution_count": 10,
   "id": "0ed01cf2",
   "metadata": {},
   "outputs": [
    {
     "name": "stdout",
     "output_type": "stream",
     "text": [
      "Vehicle(ssn='100-53-9824', vehicle_make='Oldsmobile', vehicle_model='Bravada', model_year=1993)\n",
      "\n",
      "Vehicle(ssn='101-71-4702', vehicle_make='Ford', vehicle_model='Mustang', model_year=1997)\n",
      "\n"
     ]
    }
   ],
   "source": [
    "vehicle = gen_vehicle('vehicles.csv')\n",
    "\n",
    "for i in islice(vehicle, 0,2):\n",
    "    print(f'{i}\\n')"
   ]
  },
  {
   "cell_type": "markdown",
   "id": "89d05a87",
   "metadata": {},
   "source": [
    "# Goal 2"
   ]
  },
  {
   "cell_type": "code",
   "execution_count": 11,
   "id": "10e6799c",
   "metadata": {},
   "outputs": [],
   "source": [
    "def gen_record():\n",
    "    '''\n",
    "    This generator attempts to combine all data from the four files.\n",
    "    First, the generators are initialized\n",
    "    '''\n",
    "    info = gen_info('personal_info.csv')\n",
    "    employ = gen_employ('employment.csv')\n",
    "    update = gen_update('update_status.csv')\n",
    "    vehicle = gen_vehicle('vehicles.csv')\n",
    "\n",
    "    # The four generators are zipped together\n",
    "    for i, e, u, v in zip(info, employ, update, vehicle):\n",
    "        Record = namedtuple('Record', 'ssn first_name last_name \\\n",
    "            gender language employer department employee_id last_updated created \\\n",
    "                vehicle_make vehicle_model model_year' )\n",
    "        data = (*i, e.employer, e.department, e.employee_id, \\\n",
    "                    u.last_updated, u.created, \\\n",
    "                        v.vehicle_make, v.vehicle_model, v.model_year)\n",
    "        yield Record(*data)"
   ]
  },
  {
   "cell_type": "code",
   "execution_count": 12,
   "id": "b94b3848",
   "metadata": {},
   "outputs": [
    {
     "name": "stdout",
     "output_type": "stream",
     "text": [
      "Record(ssn='100-53-9824', first_name='Sebastiano', last_name='Tester', gender='Male', language='Icelandic', employer='Stiedemann-Bailey', department='Research and Development', employee_id='29-0890771', last_updated=datetime.date(2017, 10, 7), created=datetime.date(2016, 1, 24), vehicle_make='Oldsmobile', vehicle_model='Bravada', model_year=1993)\n",
      "\n",
      "Record(ssn='101-71-4702', first_name='Cayla', last_name='MacDonagh', gender='Female', language='Lao', employer='Nicolas and Sons', department='Sales', employee_id='41-6841359', last_updated=datetime.date(2017, 1, 23), created=datetime.date(2016, 1, 27), vehicle_make='Ford', vehicle_model='Mustang', model_year=1997)\n",
      "\n"
     ]
    }
   ],
   "source": [
    "record = gen_record()\n",
    "\n",
    "for i in islice(record, 0,2):\n",
    "    print(f'{i}\\n')"
   ]
  },
  {
   "cell_type": "markdown",
   "id": "e351b1d7",
   "metadata": {},
   "source": [
    "# Goal 3"
   ]
  },
  {
   "cell_type": "code",
   "execution_count": 13,
   "id": "d3153eab",
   "metadata": {},
   "outputs": [],
   "source": [
    "def stale_record():\n",
    "    '''\n",
    "    This generator yields only data if the record has been updated\n",
    "    after 3/1/2018.\n",
    "    '''\n",
    "    record = gen_record()\n",
    "    for r in record:\n",
    "        if r.last_updated > datetime.date(2018, 1, 3):\n",
    "            yield r"
   ]
  },
  {
   "cell_type": "code",
   "execution_count": 14,
   "id": "a8518c60",
   "metadata": {},
   "outputs": [
    {
     "name": "stdout",
     "output_type": "stream",
     "text": [
      "Record(ssn='104-84-7144', first_name='Claudianus', last_name='Brixey', gender='Male', language='Afrikaans', employer='Zemlak-Olson', department='Business Development', employee_id='46-2886707', last_updated=datetime.date(2018, 2, 19), created=datetime.date(2016, 3, 15), vehicle_make='Ford', vehicle_model='Crown Victoria', model_year=2008)\n",
      "\n",
      "Record(ssn='105-85-7486', first_name='Angelina', last_name='McAvey', gender='Female', language='Punjabi', employer='\"Roberts', department=' Torphy and Dach\"', employee_id='Human Resources', last_updated=datetime.date(2018, 2, 14), created=datetime.date(2016, 12, 15), vehicle_make='Chrysler', vehicle_model='300', model_year=2008)\n",
      "\n"
     ]
    }
   ],
   "source": [
    "st_rec = stale_record()\n",
    "\n",
    "for i in islice(st_rec, 0,2):\n",
    "    print(f'{i}\\n')"
   ]
  },
  {
   "cell_type": "markdown",
   "id": "88874133",
   "metadata": {},
   "source": [
    "# Goal 4"
   ]
  },
  {
   "cell_type": "code",
   "execution_count": 15,
   "id": "fdf06a21",
   "metadata": {},
   "outputs": [],
   "source": [
    "def car_gender():\n",
    "    '''\n",
    "    This function prints the most common car model used by males and females.\n",
    "    after 3/1/2018.\n",
    "    '''\n",
    "    record = gen_record()\n",
    "    male_cnt = Counter() # this counter keeps track of car models for males\n",
    "    female_cnt = Counter() # this counter keeps track of car models for females\n",
    "    for r in record:\n",
    "        if r.gender == 'Male':\n",
    "           male_cnt.update([r.vehicle_model])\n",
    "        elif r.gender == 'Female':\n",
    "           female_cnt.update([r.vehicle_model])\n",
    "    print(f'Most Common Car for Male is {male_cnt.most_common(1)[0][0]} with a count of {male_cnt.most_common(1)[0][1]}')\n",
    "    print(f'Most Common Car for Female is {female_cnt.most_common(1)[0][0]} with a count of {female_cnt.most_common(1)[0][1]}')"
   ]
  },
  {
   "cell_type": "code",
   "execution_count": 16,
   "id": "86681582",
   "metadata": {},
   "outputs": [
    {
     "name": "stdout",
     "output_type": "stream",
     "text": [
      "Most Common Car for Male is Savana 1500 with a count of 7\n",
      "Most Common Car for Female is Mustang with a count of 12\n"
     ]
    }
   ],
   "source": [
    "car_gender()"
   ]
  }
 ],
 "metadata": {
  "kernelspec": {
   "display_name": "default",
   "language": "python",
   "name": "python3"
  },
  "language_info": {
   "codemirror_mode": {
    "name": "ipython",
    "version": 3
   },
   "file_extension": ".py",
   "mimetype": "text/x-python",
   "name": "python",
   "nbconvert_exporter": "python",
   "pygments_lexer": "ipython3",
   "version": "3.8.10"
  }
 },
 "nbformat": 4,
 "nbformat_minor": 5
}
